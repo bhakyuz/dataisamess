{
 "cells": [
  {
   "cell_type": "code",
   "execution_count": 1,
   "metadata": {},
   "outputs": [],
   "source": [
    "# trick relative paths for importing local package\n",
    "# https://mg.readthedocs.io/importing-local-python-modules-from-jupyter-notebooks/sys-path-in-notebook/path-notebook.html\n",
    "import os\n",
    "import sys\n",
    "sys.path.insert(0, os.path.abspath('./..'))"
   ]
  },
  {
   "cell_type": "code",
   "execution_count": 2,
   "metadata": {},
   "outputs": [
    {
     "output_type": "stream",
     "name": "stdout",
     "text": [
      "\nINSTALLED VERSIONS\n------------------\ncommit           : 7d32926db8f7541c356066dcadabf854487738de\npython           : 3.8.5.final.0\npython-bits      : 64\nOS               : Linux\nOS-release       : 5.4.0-66-generic\nVersion          : #74-Ubuntu SMP Wed Jan 27 22:54:38 UTC 2021\nmachine          : x86_64\nprocessor        : x86_64\nbyteorder        : little\nLC_ALL           : None\nLANG             : en_US.UTF-8\nLOCALE           : en_US.UTF-8\n\npandas           : 1.2.2\nnumpy            : 1.19.1\npytz             : 2020.1\ndateutil         : 2.8.1\npip              : 20.0.2\nsetuptools       : 45.2.0\nCython           : None\npytest           : None\nhypothesis       : None\nsphinx           : None\nblosc            : None\nfeather          : None\nxlsxwriter       : None\nlxml.etree       : None\nhtml5lib         : None\npymysql          : 0.10.1\npsycopg2         : 2.8.5 (dt dec pq3 ext lo64)\njinja2           : 2.11.2\nIPython          : 7.18.1\npandas_datareader: None\nbs4              : 4.9.0\nbottleneck       : None\nfsspec           : 0.7.4\nfastparquet      : None\ngcsfs            : None\nmatplotlib       : 3.3.2\nnumexpr          : None\nodfpy            : None\nopenpyxl         : None\npandas_gbq       : None\npyarrow          : None\npyxlsb           : None\ns3fs             : 0.4.2\nscipy            : 1.5.2\nsqlalchemy       : 1.3.20\ntables           : None\ntabulate         : 0.8.7\nxarray           : None\nxlrd             : None\nxlwt             : None\nnumba            : None\n"
     ]
    }
   ],
   "source": [
    "import pandas as pd\n",
    "pd.show_versions()"
   ]
  },
  {
   "cell_type": "code",
   "execution_count": 6,
   "metadata": {},
   "outputs": [
    {
     "output_type": "stream",
     "name": "stdout",
     "text": [
      "Empty DataFrame\nColumns: [a, b, c]\nIndex: []\nEmpty DataFrame\nColumns: [a, b, c]\nIndex: []\nEmpty DataFrame\nColumns: [a, b, c]\nIndex: []\n"
     ]
    },
    {
     "output_type": "execute_result",
     "data": {
      "text/plain": [
       "             d   c\n",
       "a b               \n",
       "1 1  something NaN"
      ],
      "text/html": "<div>\n<style scoped>\n    .dataframe tbody tr th:only-of-type {\n        vertical-align: middle;\n    }\n\n    .dataframe tbody tr th {\n        vertical-align: top;\n    }\n\n    .dataframe thead th {\n        text-align: right;\n    }\n</style>\n<table border=\"1\" class=\"dataframe\">\n  <thead>\n    <tr style=\"text-align: right;\">\n      <th></th>\n      <th></th>\n      <th>d</th>\n      <th>c</th>\n    </tr>\n    <tr>\n      <th>a</th>\n      <th>b</th>\n      <th></th>\n      <th></th>\n    </tr>\n  </thead>\n  <tbody>\n    <tr>\n      <th>1</th>\n      <th>1</th>\n      <td>something</td>\n      <td>NaN</td>\n    </tr>\n  </tbody>\n</table>\n</div>"
     },
     "metadata": {},
     "execution_count": 6
    }
   ],
   "source": [
    "raw = pd.DataFrame({\n",
    "    'a':[],\n",
    "    'b':[],\n",
    "    'c':[]\n",
    "    })\n",
    "# print(raw)\n",
    "index_cols = ['a','b']\n",
    "# raw.set_index(index_cols, inplace=True)\n",
    "print(raw)\n",
    "summarized1 = raw.groupby(['a','b'], as_index=False).agg({'c':'sum'})\n",
    "summarized2 = raw.groupby(['a','b'], as_index=True).agg({'c':'sum'}).reset_index()\n",
    "# summarized.set_index(index_cols, inplace=True)\n",
    "print(summarized1)\n",
    "print(summarized2)\n",
    "\n",
    "admon = admon.groupby(GROUP_BY).agg(ADMON_AGG_MAP).reset_index()\n",
    "# vs\n",
    "admon = admon.groupby(GROUP_BY, as_index=False).agg(ADMON_AGG_MAP)"
   ]
  },
  {
   "cell_type": "code",
   "execution_count": null,
   "metadata": {},
   "outputs": [],
   "source": [
    "raw = pd.DataFrame({\n",
    "    'a':[],\n",
    "    'b':[],\n",
    "    'c':[],\n",
    "    })\n",
    "\n",
    "# print(raw)\n",
    "index_cols = ['a','b']\n",
    "# raw.set_index(index_cols, inplace=True)\n",
    "print(raw)\n",
    "summarized = raw.groupby(['a','b'], as_index=False).agg({'c':'sum'})\n",
    "summarized.set_index(index_cols, inplace=True)\n",
    "print(summarized)\n",
    "# pd.DataFrame({'a':[1], 'b':1, 'd':'something'}).join(summarized)\n",
    "# pd.DataFrame({'a':[1], 'b':1, 'd':'something'}).merge(summarized, on = ['a', 'b'], how = 'left')\n",
    "tata = pd.DataFrame({'a':[1], 'b':1, 'd':'something'})\n",
    "tata.set_index(index_cols, inplace=True)\n",
    "tata.join(summarized, how = 'left')"
   ]
  },
  {
   "cell_type": "code",
   "execution_count": null,
   "metadata": {},
   "outputs": [],
   "source": [
    "# tata.join(summarized, how = 'left')"
   ]
  },
  {
   "cell_type": "code",
   "execution_count": null,
   "metadata": {},
   "outputs": [],
   "source": [
    "import numpy as np\n",
    "raw2 = pd.DataFrame({\n",
    "    'a':[1,2,2,3,3,3,4,4,4,4,5,5,5,5,5],\n",
    "    'b':[1,1,1,1,1,1,1,1,1,1,2,2,2,2,2],\n",
    "    'c':[np.nan,np.nan,1,1,1,1,1,1,1,1,2,2,2,2,2],\n",
    "})\n",
    "\n",
    "# group on a,b and get the sum of c\n",
    "summarized2 = raw2.groupby(['a','b']).agg('sum').reset_index()\n",
    "print(summarized2)\n",
    "summarized2"
   ]
  },
  {
   "cell_type": "code",
   "execution_count": null,
   "metadata": {},
   "outputs": [],
   "source": [
    "summarized2_2 = raw2.groupby(['a','b']).agg(lambda x: x.sum(skipna=False)).reset_index()\n",
    "summarized2_2\n",
    "print(summarized2_2)\n"
   ]
  },
  {
   "cell_type": "code",
   "execution_count": null,
   "metadata": {},
   "outputs": [],
   "source": [
    "raw3 = pd.DataFrame({\n",
    "    'a':[1,2,2,3,3,3,4,4,4,4,5,5,5,5,5],\n",
    "    'b':[np.nan,1,1,1,1,1,1,1,1,1,2,2,2,2,2],\n",
    "    'c':[1.1,1.1,1,1,1,1,1,1,1,1,2,2,2,2,2],\n",
    "})\n",
    "\n",
    "# group on a,b and get the sum of c\n",
    "summarized3 = raw3.groupby(['a','b']).agg('sum').reset_index()\n",
    "print(summarized3)\n",
    "summarized3"
   ]
  },
  {
   "cell_type": "code",
   "execution_count": null,
   "metadata": {},
   "outputs": [],
   "source": [
    "summarized3_2 = raw3.fillna('something').groupby(['a','b']).agg('sum').reset_index().replace('something', np.nan)\n",
    "summarized3_2\n",
    "print(summarized3_2)"
   ]
  }
 ],
 "metadata": {
  "kernelspec": {
   "name": "python38564bit96852b60dc754e83b6251ae73a3af899",
   "display_name": "Python 3.8.5 64-bit",
   "language": "python"
  },
  "language_info": {
   "codemirror_mode": {
    "name": "ipython",
    "version": 3
   },
   "file_extension": ".py",
   "mimetype": "text/x-python",
   "name": "python",
   "nbconvert_exporter": "python",
   "pygments_lexer": "ipython3",
   "version": "3.8.5-final"
  }
 },
 "nbformat": 4,
 "nbformat_minor": 4
}