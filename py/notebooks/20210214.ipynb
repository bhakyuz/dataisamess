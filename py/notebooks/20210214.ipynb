{
 "cells": [
  {
   "cell_type": "code",
   "execution_count": null,
   "metadata": {},
   "outputs": [],
   "source": [
    "# trick relative paths for importing local package\n",
    "# https://mg.readthedocs.io/importing-local-python-modules-from-jupyter-notebooks/sys-path-in-notebook/path-notebook.html\n",
    "import os\n",
    "import sys\n",
    "sys.path.insert(0, os.path.abspath('./..'))"
   ]
  },
  {
   "cell_type": "code",
   "execution_count": null,
   "metadata": {},
   "outputs": [],
   "source": [
    "import pandas as pd\n",
    "pd.show_versions()"
   ]
  },
  {
   "cell_type": "code",
   "execution_count": null,
   "metadata": {},
   "outputs": [],
   "source": [
    "raw = pd.DataFrame({\n",
    "    'a':[1,2,2,3,3,3,4,4,4,4,5,5,5,5,5],\n",
    "    'b':[1,1,1,1,1,1,1,1,1,1,2,2,2,2,2],\n",
    "    'c':1\n",
    "    })\n",
    "# print(raw)\n",
    "index_cols = ['a','b']\n",
    "# raw.set_index(index_cols, inplace=True)\n",
    "print(raw)\n",
    "summarized = raw.groupby(['a','b'], as_index=False).agg({'c':'sum'})\n",
    "summarized.set_index(index_cols, inplace=True)\n",
    "print(summarized)\n",
    "# pd.DataFrame({'a':[1], 'b':1, 'd':'something'}).join(summarized)\n",
    "# pd.DataFrame({'a':[1], 'b':1, 'd':'something'}).merge(summarized, on = ['a', 'b'], how = 'left')\n",
    "tata = pd.DataFrame({'a':[1], 'b':1, 'd':'something'})\n",
    "tata.set_index(index_cols, inplace=True)\n",
    "tata.join(summarized, how = 'left')"
   ]
  },
  {
   "cell_type": "code",
   "execution_count": null,
   "metadata": {},
   "outputs": [],
   "source": [
    "raw = pd.DataFrame({\n",
    "    'a':[],\n",
    "    'b':[],\n",
    "    'c':[],\n",
    "    })\n",
    "\n",
    "# print(raw)\n",
    "index_cols = ['a','b']\n",
    "# raw.set_index(index_cols, inplace=True)\n",
    "print(raw)\n",
    "summarized = raw.groupby(['a','b'], as_index=False).agg({'c':'sum'})\n",
    "summarized.set_index(index_cols, inplace=True)\n",
    "print(summarized)\n",
    "# pd.DataFrame({'a':[1], 'b':1, 'd':'something'}).join(summarized)\n",
    "# pd.DataFrame({'a':[1], 'b':1, 'd':'something'}).merge(summarized, on = ['a', 'b'], how = 'left')\n",
    "tata = pd.DataFrame({'a':[1], 'b':1, 'd':'something'})\n",
    "tata.set_index(index_cols, inplace=True)\n",
    "tata.join(summarized, how = 'left')"
   ]
  },
  {
   "cell_type": "code",
   "execution_count": null,
   "metadata": {},
   "outputs": [],
   "source": [
    "# tata.join(summarized, how = 'left')"
   ]
  },
  {
   "cell_type": "code",
   "execution_count": null,
   "metadata": {},
   "outputs": [],
   "source": [
    "import numpy as np\n",
    "raw2 = pd.DataFrame({\n",
    "    'a':[1,2,2,3,3,3,4,4,4,4,5,5,5,5,5],\n",
    "    'b':[1,1,1,1,1,1,1,1,1,1,2,2,2,2,2],\n",
    "    'c':[np.nan,np.nan,1,1,1,1,1,1,1,1,2,2,2,2,2],\n",
    "})\n",
    "\n",
    "# group on a,b and get the sum of c\n",
    "summarized2 = raw2.groupby(['a','b']).agg('sum').reset_index()\n",
    "print(summarized2)\n",
    "summarized2"
   ]
  },
  {
   "cell_type": "code",
   "execution_count": null,
   "metadata": {},
   "outputs": [],
   "source": [
    "summarized2_2 = raw2.groupby(['a','b']).agg(lambda x: x.sum(skipna=False)).reset_index()\n",
    "summarized2_2\n",
    "print(summarized2_2)\n"
   ]
  },
  {
   "cell_type": "code",
   "execution_count": null,
   "metadata": {},
   "outputs": [],
   "source": [
    "raw3 = pd.DataFrame({\n",
    "    'a':[1,2,2,3,3,3,4,4,4,4,5,5,5,5,5],\n",
    "    'b':[np.nan,1,1,1,1,1,1,1,1,1,2,2,2,2,2],\n",
    "    'c':[1.1,1.1,1,1,1,1,1,1,1,1,2,2,2,2,2],\n",
    "})\n",
    "\n",
    "# group on a,b and get the sum of c\n",
    "summarized3 = raw3.groupby(['a','b']).agg('sum').reset_index()\n",
    "print(summarized3)\n",
    "summarized3"
   ]
  },
  {
   "cell_type": "code",
   "execution_count": null,
   "metadata": {},
   "outputs": [],
   "source": [
    "summarized3_2 = raw3.fillna('something').groupby(['a','b']).agg('sum').reset_index().replace('something', np.nan)\n",
    "summarized3_2\n",
    "print(summarized3_2)"
   ]
  }
 ],
 "metadata": {
  "kernelspec": {
   "name": "Python 3.8.7 64-bit ('.venv')",
   "display_name": "Python 3.8.7 64-bit ('.venv')",
   "metadata": {
    "interpreter": {
     "hash": "93125a21c312dab9e8e1db72d25b0a92d7c817db1eb99083d9482ed8f73506b6"
    }
   }
  },
  "language_info": {
   "codemirror_mode": {
    "name": "ipython",
    "version": 3
   },
   "file_extension": ".py",
   "mimetype": "text/x-python",
   "name": "python",
   "nbconvert_exporter": "python",
   "pygments_lexer": "ipython3",
   "version": "3.8.7-final"
  }
 },
 "nbformat": 4,
 "nbformat_minor": 4
}